{
 "cells": [
  {
   "cell_type": "code",
   "execution_count": 1,
   "metadata": {},
   "outputs": [],
   "source": [
    "import gtsam\n",
    "\n",
    "from gtsam import (CalibratedCamera, Pose2, NonlinearFactorGraph, PriorFactorCalibratedCamera)"
   ]
  },
  {
   "cell_type": "code",
   "execution_count": 4,
   "metadata": {},
   "outputs": [
    {
     "ename": "AttributeError",
     "evalue": "'gtsam.gtsam.NonlinearFactorGraph' object has no attribute 'addex'",
     "output_type": "error",
     "traceback": [
      "\u001b[0;31m---------------------------------------------------------------------------\u001b[0m",
      "\u001b[0;31mAttributeError\u001b[0m                            Traceback (most recent call last)",
      "Cell \u001b[0;32mIn[4], line 6\u001b[0m\n\u001b[1;32m      2\u001b[0m cam \u001b[38;5;241m=\u001b[39m CalibratedCamera\u001b[38;5;241m.\u001b[39mLevel(Pose2(), \u001b[38;5;241m0.5\u001b[39m)\n\u001b[1;32m      4\u001b[0m graph \u001b[38;5;241m=\u001b[39m NonlinearFactorGraph()\n\u001b[0;32m----> 6\u001b[0m \u001b[43mgraph\u001b[49m\u001b[38;5;241;43m.\u001b[39;49m\u001b[43maddex\u001b[49m\n",
      "\u001b[0;31mAttributeError\u001b[0m: 'gtsam.gtsam.NonlinearFactorGraph' object has no attribute 'addex'"
     ]
    }
   ],
   "source": [
    "# camera looking straight forward\n",
    "cam = CalibratedCamera.Level(Pose2(), 0.5)\n",
    "\n",
    "graph = NonlinearFactorGraph()\n",
    "\n",
    "graph.generic \n"
   ]
  }
 ],
 "metadata": {
  "kernelspec": {
   "display_name": ".venv",
   "language": "python",
   "name": "python3"
  },
  "language_info": {
   "codemirror_mode": {
    "name": "ipython",
    "version": 3
   },
   "file_extension": ".py",
   "mimetype": "text/x-python",
   "name": "python",
   "nbconvert_exporter": "python",
   "pygments_lexer": "ipython3",
   "version": "3.10.12"
  }
 },
 "nbformat": 4,
 "nbformat_minor": 2
}
