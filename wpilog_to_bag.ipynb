{
 "cells": [
  {
   "cell_type": "code",
   "execution_count": 45,
   "metadata": {},
   "outputs": [],
   "source": [
    "import rosbag\n",
    "from wpiutil.log import *\n",
    "import struct\n",
    "\n",
    "fname = \"Log_24-04-04_22-03-36.wpilog\"\n",
    "wpilog = DataLogReader(\"/mnt/c/Users/matth/Downloads/\" + fname)"
   ]
  },
  {
   "cell_type": "code",
   "execution_count": 54,
   "metadata": {},
   "outputs": [],
   "source": [
    "from dataclasses import dataclass\n",
    "from photonlibpy.photonPipelineResult import PhotonPipelineResult\n",
    "from photonlibpy.packet import Packet\n",
    "\n",
    "\n",
    "@dataclass\n",
    "class SwerveModuleState:\n",
    "    speedMps: float\n",
    "    angleRad: float\n",
    "\n",
    "def decodeStates(raw: bytes): \n",
    "    schema = \"<dddddddd\"\n",
    "    state = struct.unpack(schema, raw)\n",
    "    return [SwerveModuleState(state[i], state[i+1]) for i in range(0, 8, 2)]\n",
    "\n",
    "def decodePacket(raw: bytes): \n",
    "    if len(raw) < 1:\n",
    "        return None\n",
    "\n",
    "    result = PhotonPipelineResult().populateFromPacket(Packet(raw))\n",
    "    print(result)\n",
    "    return result\n",
    "\n",
    "\n",
    "topics = {\n",
    "    # \"/RealOutputs/Swerve/Achieved\": [\"getRaw\", decodeStates],\n",
    "    \"/RealOutputs/Photon/Raw Camera Data 3\": [\"getRaw\", decodePacket]\n",
    "}\n",
    "\n",
    "topicMap = {}\n",
    "\n",
    "topicData = {}\n",
    "\n",
    "for msg in wpilog: \n",
    "    if msg.isStart():\n",
    "        start = msg.getStartData()\n",
    "        if start.name in topics.keys():\n",
    "            topicMap[start.entry] = start.name\n",
    "        continue\n",
    "\n",
    "    if msg.isControl():\n",
    "        continue\n",
    "\n",
    "    if msg.isSetMetadata():\n",
    "        continue\n",
    "\n",
    "    if msg.isSetMetadata():\n",
    "        continue\n",
    "\n",
    "    if msg.isFinish():\n",
    "        topicMap.pop(msg.getFinishEntry())\n",
    "        continue\n",
    "\n",
    "    if msg.getEntry() in topicMap:\n",
    "\n",
    "        topicName = topicMap[msg.getEntry()]\n",
    "        \n",
    "        if topicName not in topicData:\n",
    "            topicData[topicName] = []\n",
    "        \n",
    "        method = topics[topicName][0]\n",
    "        transformer = topics[topicName][1]\n",
    "        topicData[topicName].append(transformer(getattr(msg, method)()))\n"
   ]
  },
  {
   "cell_type": "code",
   "execution_count": 51,
   "metadata": {},
   "outputs": [
    {
     "data": {
      "text/plain": [
       "[None]"
      ]
     },
     "execution_count": 51,
     "metadata": {},
     "output_type": "execute_result"
    }
   ],
   "source": [
    "topicData.keys()\n",
    "topicData[\"/RealOutputs/Photon/Raw Camera Data 1\"]"
   ]
  },
  {
   "cell_type": "code",
   "execution_count": null,
   "metadata": {},
   "outputs": [],
   "source": [
    "bag = rosbag.Bag(fname + \".bag\", 'w')\n",
    "\n",
    "bag.write()"
   ]
  }
 ],
 "metadata": {
  "kernelspec": {
   "display_name": ".venv",
   "language": "python",
   "name": "python3"
  },
  "language_info": {
   "codemirror_mode": {
    "name": "ipython",
    "version": 3
   },
   "file_extension": ".py",
   "mimetype": "text/x-python",
   "name": "python",
   "nbconvert_exporter": "python",
   "pygments_lexer": "ipython3",
   "version": "3.10.12"
  }
 },
 "nbformat": 4,
 "nbformat_minor": 2
}
